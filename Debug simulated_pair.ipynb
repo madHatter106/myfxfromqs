{
 "cells": [
  {
   "cell_type": "code",
   "execution_count": 1,
   "metadata": {
    "collapsed": true
   },
   "outputs": [],
   "source": [
    "import calendar\n",
    "import datetime\n",
    "import os\n",
    "from qsforex import settings"
   ]
  },
  {
   "cell_type": "code",
   "execution_count": 2,
   "metadata": {
    "collapsed": true
   },
   "outputs": [],
   "source": [
    "def month_weekdays(year_int, month_int):\n",
    "    \"\"\"\n",
    "    Produces a list of datetime.date objects representing the\n",
    "    weekdays in a particular month, given a year.\n",
    "    \"\"\"\n",
    "    cal = calendar.Calendar()\n",
    "    return [\n",
    "        d for d in cal.itermonthdates(year_int, month_int)\n",
    "        if d.weekday() < 5 and d.year == year_int\n",
    "    ]"
   ]
  },
  {
   "cell_type": "code",
   "execution_count": 3,
   "metadata": {
    "collapsed": true
   },
   "outputs": [],
   "source": [
    "days = month_weekdays(2014, 1)  # January 2014"
   ]
  },
  {
   "cell_type": "code",
   "execution_count": 5,
   "metadata": {
    "collapsed": true
   },
   "outputs": [],
   "source": [
    "current_time = datetime.datetime(\n",
    "            days[0].year, days[0].month, days[0].day, 0, 0, 0,\n",
    "        )"
   ]
  },
  {
   "cell_type": "code",
   "execution_count": 5,
   "metadata": {
    "collapsed": false
   },
   "outputs": [],
   "source": [
    "import pandas as pd"
   ]
  },
  {
   "cell_type": "code",
   "execution_count": 6,
   "metadata": {
    "collapsed": false
   },
   "outputs": [],
   "source": [
    "df=pd.read_csv(os.path.join(settings.CSV_DATA_DIR,'GBPUSD_20140131.csv'))"
   ]
  },
  {
   "cell_type": "code",
   "execution_count": 9,
   "metadata": {
    "collapsed": false
   },
   "outputs": [
    {
     "data": {
      "text/html": [
       "<div>\n",
       "<table border=\"1\" class=\"dataframe\">\n",
       "  <thead>\n",
       "    <tr style=\"text-align: right;\">\n",
       "      <th></th>\n",
       "      <th>Time</th>\n",
       "      <th>Ask</th>\n",
       "      <th>Bid</th>\n",
       "      <th>AskVolume</th>\n",
       "      <th>BidVolume</th>\n",
       "    </tr>\n",
       "  </thead>\n",
       "  <tbody>\n",
       "    <tr>\n",
       "      <th>0</th>\n",
       "      <td>31.01.2014 00:00:01.874</td>\n",
       "      <td>1.47860</td>\n",
       "      <td>1.47660</td>\n",
       "      <td>2.75</td>\n",
       "      <td>1.62</td>\n",
       "    </tr>\n",
       "    <tr>\n",
       "      <th>1</th>\n",
       "      <td>31.01.2014 00:00:03.377</td>\n",
       "      <td>1.47859</td>\n",
       "      <td>1.47659</td>\n",
       "      <td>1.95</td>\n",
       "      <td>2.35</td>\n",
       "    </tr>\n",
       "    <tr>\n",
       "      <th>2</th>\n",
       "      <td>31.01.2014 00:00:04.586</td>\n",
       "      <td>1.47857</td>\n",
       "      <td>1.47657</td>\n",
       "      <td>2.32</td>\n",
       "      <td>1.35</td>\n",
       "    </tr>\n",
       "    <tr>\n",
       "      <th>3</th>\n",
       "      <td>31.01.2014 00:00:06.092</td>\n",
       "      <td>1.47860</td>\n",
       "      <td>1.47660</td>\n",
       "      <td>1.61</td>\n",
       "      <td>2.30</td>\n",
       "    </tr>\n",
       "    <tr>\n",
       "      <th>4</th>\n",
       "      <td>31.01.2014 00:00:07.509</td>\n",
       "      <td>1.47859</td>\n",
       "      <td>1.47659</td>\n",
       "      <td>2.97</td>\n",
       "      <td>1.87</td>\n",
       "    </tr>\n",
       "  </tbody>\n",
       "</table>\n",
       "</div>"
      ],
      "text/plain": [
       "                      Time      Ask      Bid  AskVolume  BidVolume\n",
       "0  31.01.2014 00:00:01.874  1.47860  1.47660       2.75       1.62\n",
       "1  31.01.2014 00:00:03.377  1.47859  1.47659       1.95       2.35\n",
       "2  31.01.2014 00:00:04.586  1.47857  1.47657       2.32       1.35\n",
       "3  31.01.2014 00:00:06.092  1.47860  1.47660       1.61       2.30\n",
       "4  31.01.2014 00:00:07.509  1.47859  1.47659       2.97       1.87"
      ]
     },
     "execution_count": 9,
     "metadata": {},
     "output_type": "execute_result"
    }
   ],
   "source": [
    "df.head()"
   ]
  },
  {
   "cell_type": "code",
   "execution_count": 8,
   "metadata": {
    "collapsed": false
   },
   "outputs": [
    {
     "data": {
      "text/plain": [
       "(61706, 5)"
      ]
     },
     "execution_count": 8,
     "metadata": {},
     "output_type": "execute_result"
    }
   ],
   "source": [
    "df.shape"
   ]
  },
  {
   "cell_type": "code",
   "execution_count": 10,
   "metadata": {
    "collapsed": false
   },
   "outputs": [
    {
     "data": {
      "text/plain": [
       "'/Users/grayWolf/DEVEL/FX/qsforex'"
      ]
     },
     "execution_count": 10,
     "metadata": {},
     "output_type": "execute_result"
    }
   ],
   "source": [
    "pwd"
   ]
  },
  {
   "cell_type": "code",
   "execution_count": 14,
   "metadata": {
    "collapsed": false
   },
   "outputs": [],
   "source": [
    "import logging\n",
    "logging.config.fileConfig('../logging.conf')"
   ]
  },
  {
   "cell_type": "code",
   "execution_count": 13,
   "metadata": {
    "collapsed": false
   },
   "outputs": [
    {
     "name": "stdout",
     "output_type": "stream",
     "text": [
      "/Users/grayWolf/DEVEL/FX/qsforex/trading\n"
     ]
    }
   ],
   "source": [
    "cd trading"
   ]
  },
  {
   "cell_type": "code",
   "execution_count": 2,
   "metadata": {
    "collapsed": false
   },
   "outputs": [
    {
     "name": "stdout",
     "output_type": "stream",
     "text": [
      "/Users/grayWolf/DEVEL/FX/qsforex\n"
     ]
    }
   ],
   "source": [
    "print(settings.MAIN_QSFX_DIR)"
   ]
  },
  {
   "cell_type": "code",
   "execution_count": null,
   "metadata": {
    "collapsed": true
   },
   "outputs": [],
   "source": []
  }
 ],
 "metadata": {
  "kernelspec": {
   "display_name": "Python 3",
   "language": "python",
   "name": "python3"
  },
  "language_info": {
   "codemirror_mode": {
    "name": "ipython",
    "version": 3
   },
   "file_extension": ".py",
   "mimetype": "text/x-python",
   "name": "python",
   "nbconvert_exporter": "python",
   "pygments_lexer": "ipython3",
   "version": "3.5.1"
  }
 },
 "nbformat": 4,
 "nbformat_minor": 0
}
